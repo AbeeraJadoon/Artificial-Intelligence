{
  "nbformat": 4,
  "nbformat_minor": 0,
  "metadata": {
    "colab": {
      "provenance": []
    },
    "kernelspec": {
      "name": "python3",
      "display_name": "Python 3"
    },
    "language_info": {
      "name": "python"
    }
  },
  "cells": [
    {
      "cell_type": "markdown",
      "source": [
        "## PractiseFile 1\n",
        "# python basics\n"
      ],
      "metadata": {
        "id": "5VOyGHdP-uP_"
      }
    },
    {
      "cell_type": "code",
      "execution_count": null,
      "metadata": {
        "colab": {
          "base_uri": "https://localhost:8080/"
        },
        "id": "6XqbtbbK-nGE",
        "outputId": "9d6ed358-886b-4f6e-9aa4-9fe43a5dd20b"
      },
      "outputs": [
        {
          "output_type": "stream",
          "name": "stdout",
          "text": [
            "Areeba Khalid\n",
            "I learn AI\n"
          ]
        }
      ],
      "source": [
        "print(\"Areeba Khalid\")\n",
        "print(\"I learn AI\")"
      ]
    },
    {
      "cell_type": "markdown",
      "source": [
        "**Python Comments**\n",
        "\n"
      ],
      "metadata": {
        "id": "KilTOuW_AL25"
      }
    },
    {
      "cell_type": "markdown",
      "source": [
        "**Creating a Comment**\n",
        "Comments starts with a #, and Python will ignore them:"
      ],
      "metadata": {
        "id": "ZnqcaCy-AnuA"
      }
    },
    {
      "cell_type": "code",
      "source": [
        "#######  COMMENT FOR AI\n",
        "print (\"This is a comment of AI\")"
      ],
      "metadata": {
        "colab": {
          "base_uri": "https://localhost:8080/"
        },
        "id": "BqiSXN4N_xNB",
        "outputId": "fddb5212-8d59-452f-8f09-e3fade8c8b6a"
      },
      "execution_count": null,
      "outputs": [
        {
          "output_type": "stream",
          "name": "stdout",
          "text": [
            "This is a comment of AI\n"
          ]
        }
      ]
    },
    {
      "cell_type": "markdown",
      "source": [
        "**Variables**\n",
        "Variables are containers for storing data values.\n",
        "\n"
      ],
      "metadata": {
        "id": "m5S6i57HCseE"
      }
    },
    {
      "cell_type": "markdown",
      "source": [
        "**Creating Variables**\n",
        "\n",
        "1.   Python has no command for declaring a variable.\n",
        "\n",
        "2.   A variable is created the moment you first assign a value to it."
      ],
      "metadata": {
        "id": "xMoKZBPdDEOM"
      }
    },
    {
      "cell_type": "code",
      "source": [
        "x = \"Asfa\"\n",
        "y = \" I am bestie of Areeba\"\n",
        "z= x+y;\n",
        "print(x)\n",
        "print(y)\n",
        "print(x+y)"
      ],
      "metadata": {
        "colab": {
          "base_uri": "https://localhost:8080/"
        },
        "id": "dRJwtGlsC3Nq",
        "outputId": "e3c87a4a-c0df-4d9c-8c6d-6920a7a1c28e"
      },
      "execution_count": null,
      "outputs": [
        {
          "output_type": "stream",
          "name": "stdout",
          "text": [
            "Asfa\n",
            " I am bestie of Areeba\n",
            "Asfa I am bestie of Areeba\n"
          ]
        }
      ]
    },
    {
      "cell_type": "markdown",
      "source": [
        "# **Casting**\n",
        "If you want to specify the data type of a variable, this can be done with casting."
      ],
      "metadata": {
        "id": "LRNC3WcPEzAR"
      }
    },
    {
      "cell_type": "code",
      "source": [
        "x = str(\"Amna\")    # x will be '4'\n",
        "y = int(4)    # y will be 4\n",
        "z = float(4)  # z will be 4.0\n",
        "print(x)\n",
        "print(y)\n",
        "print(z)"
      ],
      "metadata": {
        "colab": {
          "base_uri": "https://localhost:8080/"
        },
        "id": "s0TqHLFFD3n_",
        "outputId": "85ec7bb0-bc8a-4c90-d917-97490d9cc222"
      },
      "execution_count": null,
      "outputs": [
        {
          "output_type": "stream",
          "name": "stdout",
          "text": [
            "Amna\n",
            "4\n",
            "4.0\n"
          ]
        }
      ]
    },
    {
      "cell_type": "markdown",
      "source": [
        "# **Get the Type**\n",
        "\n",
        "You can get the data type of a variable with the **type()** function."
      ],
      "metadata": {
        "id": "b6u0EfEGFYQV"
      }
    },
    {
      "cell_type": "code",
      "source": [
        "x = 7\n",
        "y = \"Hammda\"\n",
        "print(type(x))\n",
        "print(type(y))"
      ],
      "metadata": {
        "colab": {
          "base_uri": "https://localhost:8080/"
        },
        "id": "yNgPdafkFqxN",
        "outputId": "ffd0fba6-beb4-4e3f-e63f-44c5f80a709b"
      },
      "execution_count": null,
      "outputs": [
        {
          "output_type": "stream",
          "name": "stdout",
          "text": [
            "<class 'int'>\n",
            "<class 'str'>\n"
          ]
        }
      ]
    },
    {
      "cell_type": "markdown",
      "source": [
        "# **Case-Sensitive**\n",
        "Variable names are case-sensitive."
      ],
      "metadata": {
        "id": "1GeyWhiLG6sg"
      }
    },
    {
      "cell_type": "code",
      "source": [
        "a = 4\n",
        "A = \"Park\"\n",
        "print(4)\n",
        "print('park')\n"
      ],
      "metadata": {
        "colab": {
          "base_uri": "https://localhost:8080/"
        },
        "id": "2uzBAoQFF5HZ",
        "outputId": "8996010e-277c-4451-a89a-1f5bc3baad1b"
      },
      "execution_count": null,
      "outputs": [
        {
          "output_type": "stream",
          "name": "stdout",
          "text": [
            "4\n",
            "park\n"
          ]
        }
      ]
    },
    {
      "cell_type": "code",
      "source": [
        "a,b,c,d = \"red\", \"pink\", \"blue\",\"yellow\"\n",
        "print(a)\n",
        "print(b)\n",
        "print(c)\n",
        "print(d)"
      ],
      "metadata": {
        "colab": {
          "base_uri": "https://localhost:8080/"
        },
        "id": "oA-e1XlOJVL0",
        "outputId": "44ce79f7-a9cb-42fe-fe6e-c6d4c3bc7b79"
      },
      "execution_count": null,
      "outputs": [
        {
          "output_type": "stream",
          "name": "stdout",
          "text": [
            "red\n",
            "pink\n",
            "blue\n",
            "yellow\n"
          ]
        }
      ]
    },
    {
      "cell_type": "code",
      "source": [
        "x = y = z = \"Mangooo\"\n",
        "print(x)\n",
        "print(y)\n",
        "print(z)"
      ],
      "metadata": {
        "colab": {
          "base_uri": "https://localhost:8080/"
        },
        "id": "0qpEqIHnN5v4",
        "outputId": "a9e06191-da54-4f55-cb40-7f88d94832cd"
      },
      "execution_count": null,
      "outputs": [
        {
          "output_type": "stream",
          "name": "stdout",
          "text": [
            "Mangooo\n",
            "Mangooo\n",
            "Mangooo\n"
          ]
        }
      ]
    },
    {
      "cell_type": "code",
      "source": [
        "x = \"CR\"\n",
        "print(x)"
      ],
      "metadata": {
        "colab": {
          "base_uri": "https://localhost:8080/"
        },
        "id": "JHqZxAiIOOqZ",
        "outputId": "37b66144-ffcb-4647-a527-cf4e94e55c03"
      },
      "execution_count": null,
      "outputs": [
        {
          "output_type": "stream",
          "name": "stdout",
          "text": [
            "CR\n"
          ]
        }
      ]
    },
    {
      "cell_type": "code",
      "source": [
        "#Example 1\n",
        "#Create a variable outside of a function, and use it inside the function\n",
        "x = \"programming\"\n",
        "\n",
        "def myfunc():\n",
        "  print(\"i like  \" + x)\n",
        "\n",
        "myfunc()"
      ],
      "metadata": {
        "colab": {
          "base_uri": "https://localhost:8080/"
        },
        "id": "wIPzYjDHPIXk",
        "outputId": "7300b5be-649f-4700-92c8-9cc4795a0d97"
      },
      "execution_count": null,
      "outputs": [
        {
          "output_type": "stream",
          "name": "stdout",
          "text": [
            "i like  programming\n"
          ]
        }
      ]
    },
    {
      "cell_type": "code",
      "source": [],
      "metadata": {
        "colab": {
          "base_uri": "https://localhost:8080/"
        },
        "id": "lb9PQwAORfEq",
        "outputId": "950be759-daf2-4371-d2b3-0ba38c5d28c6"
      },
      "execution_count": null,
      "outputs": [
        {
          "output_type": "stream",
          "name": "stdout",
          "text": [
            "pakistan\n"
          ]
        }
      ]
    },
    {
      "cell_type": "code",
      "source": [],
      "metadata": {
        "colab": {
          "base_uri": "https://localhost:8080/"
        },
        "id": "jWkMQ4UwfstM",
        "outputId": "9d450403-5208-4c20-cef3-a1042cffea87"
      },
      "execution_count": null,
      "outputs": [
        {
          "output_type": "stream",
          "name": "stdout",
          "text": [
            "{'brand': 'Ford', 'model': 'Mustang', 'year': 2020}\n"
          ]
        }
      ]
    },
    {
      "cell_type": "code",
      "source": [
        "dict = {\n",
        "  \"brand\": \"Ford\",\n",
        "  \"model\": \"Mustang\",\n",
        "  \"year\": 1964,\n",
        "  \"year\": 2020\n",
        "}\n",
        "print(len(dict))\n",
        "\n",
        "person = {\n",
        "  \"name\": \"Ali\",\n",
        "  \"age\": 25,\n",
        "  \"city\": \"New York\",\n",
        "  \"age\": 30  # This will overwrite the previous \"age\" key\n",
        "}\n",
        "\n",
        "print(len(person))"
      ],
      "metadata": {
        "colab": {
          "base_uri": "https://localhost:8080/"
        },
        "id": "G5mq1Hd2gHIY",
        "outputId": "1e3b689b-f7c0-4b8d-917b-e2a1fd03acfd"
      },
      "execution_count": null,
      "outputs": [
        {
          "output_type": "stream",
          "name": "stdout",
          "text": [
            "3\n"
          ]
        }
      ]
    },
    {
      "cell_type": "code",
      "source": [
        "dict = {\n",
        "  \"brand\": \"Ford\",\n",
        "  \"model\": \"Mustang\",\n",
        "  \"year\": 1964\n",
        "}\n",
        "dict[\"year\"] = 2018  #Change the \"year\" to 2018:\n",
        "print(dict)\n",
        "\n",
        "person = {\n",
        "  \"name\": \"Ali\",\n",
        "  \"age\": 25,\n",
        "  \"city\": \"New York\"\n",
        "}\n",
        "person[\"age\"]=30  #Change the \"age\" to 30:\n",
        "print(person)"
      ],
      "metadata": {
        "colab": {
          "base_uri": "https://localhost:8080/"
        },
        "id": "ul_FjmpnhcCN",
        "outputId": "e4f4b39a-aff3-425f-c625-40e33eddf646"
      },
      "execution_count": null,
      "outputs": [
        {
          "output_type": "stream",
          "name": "stdout",
          "text": [
            "{'brand': 'Ford', 'model': 'Mustang', 'year': 2018}\n",
            "{'name': 'Alice', 'age': 30, 'city': 'New York'}\n"
          ]
        }
      ]
    },
    {
      "cell_type": "code",
      "source": [
        "#Update the \"year\" of the car by using the update() method:\n",
        "dict = {\n",
        "  \"brand\": \"Ford\",\n",
        "  \"model\": \"Mustang\",\n",
        "  \"year\": 1964\n",
        "}\n",
        "dict.update({\"year\": 2020})\n",
        "print(dict)\n",
        "\n",
        "person = {\n",
        "  \"name\": \"Ali\",\n",
        "  \"age\": 25,\n",
        "  \"city\": \"New York\"\n",
        "}\n",
        "person.update({\"age\": 28})\n",
        "print(person)"
      ],
      "metadata": {
        "colab": {
          "base_uri": "https://localhost:8080/"
        },
        "id": "7_6-s-SWjeBl",
        "outputId": "08d5af1a-73a8-4f19-e3ed-f334acead805"
      },
      "execution_count": null,
      "outputs": [
        {
          "output_type": "stream",
          "name": "stdout",
          "text": [
            "{'brand': 'Ford', 'model': 'Mustang', 'year': 2020}\n"
          ]
        }
      ]
    },
    {
      "cell_type": "code",
      "source": [
        "#If statement:\n",
        "a = 289\n",
        "b = 123\n",
        "if a > b:\n",
        "  print(\"a is greater than b\")"
      ],
      "metadata": {
        "colab": {
          "base_uri": "https://localhost:8080/"
        },
        "id": "4t7nKIlkleps",
        "outputId": "d5628bcb-457e-4fc0-9385-21dd87ab7a7d"
      },
      "execution_count": null,
      "outputs": [
        {
          "output_type": "stream",
          "name": "stdout",
          "text": [
            "a is greater than b\n"
          ]
        }
      ]
    },
    {
      "cell_type": "code",
      "source": [
        "#Elif\n",
        "#The elif keyword is Python's way of saying \"if the previous conditions were not true, then try this condition\"\n",
        "#In this example a is greater than b, so the first condition is not true, also the elif condition is not true, so we go to the else condition and print to screen that \"a is greater than b\".\n",
        "a = 2090\n",
        "b = 330\n",
        "if a> b:\n",
        "  print(\"a is greater than b\")\n",
        "elif a == b:\n",
        "  print(\"a and b are equal\")\n",
        "else:\n",
        "  print(\"b is greater than a\")"
      ],
      "metadata": {
        "colab": {
          "base_uri": "https://localhost:8080/"
        },
        "id": "j4WpMUz5mdQT",
        "outputId": "f9d3028b-3410-4851-8d44-d871c36e5d7e"
      },
      "execution_count": null,
      "outputs": [
        {
          "output_type": "stream",
          "name": "stdout",
          "text": [
            "a is greater than b\n"
          ]
        }
      ]
    },
    {
      "cell_type": "markdown",
      "source": [
        "You can also have an else without the elif:"
      ],
      "metadata": {
        "id": "VAsSRQg3nfw0"
      }
    },
    {
      "cell_type": "code",
      "source": [
        "a = 200\n",
        "b = 33\n",
        "if b > a:\n",
        "  print(\"b is greater than a\")\n",
        "else:\n",
        "  print(\"b is not greater than a\")"
      ],
      "metadata": {
        "colab": {
          "base_uri": "https://localhost:8080/"
        },
        "id": "Wd1b_DOdng-2",
        "outputId": "3143cadc-1776-442e-e68c-ce37d3370af8"
      },
      "execution_count": null,
      "outputs": [
        {
          "output_type": "stream",
          "name": "stdout",
          "text": [
            "b is not greater than a\n"
          ]
        }
      ]
    },
    {
      "cell_type": "markdown",
      "source": [
        "# **The while Loop**\n",
        "With the while loop we can execute a set of statements as long as a condition is true."
      ],
      "metadata": {
        "id": "nj4nfdUpocWY"
      }
    },
    {
      "cell_type": "code",
      "source": [
        "j = 1\n",
        "while j < 10:\n",
        "  print(j)\n",
        "  j += 1"
      ],
      "metadata": {
        "colab": {
          "base_uri": "https://localhost:8080/"
        },
        "id": "FxMABMhUoexi",
        "outputId": "86fc7912-5c03-4794-8ca4-5ebd5f9d7d0d"
      },
      "execution_count": null,
      "outputs": [
        {
          "output_type": "stream",
          "name": "stdout",
          "text": [
            "1\n",
            "2\n",
            "3\n",
            "4\n",
            "5\n",
            "6\n",
            "7\n",
            "8\n",
            "9\n"
          ]
        }
      ]
    },
    {
      "cell_type": "markdown",
      "source": [
        "# **For Loops**\n",
        "A for loop is used for iterating over a sequence (that is either a list, a tuple, a dictionary, a set, or a string)."
      ],
      "metadata": {
        "id": "m7JhLKGmpWgK"
      }
    },
    {
      "cell_type": "code",
      "source": [
        "colors = [\"purple\", \"orange\", \"green\"]\n",
        "for x in colors:\n",
        "  print(x)"
      ],
      "metadata": {
        "colab": {
          "base_uri": "https://localhost:8080/"
        },
        "id": "wvi7kDwMpmF_",
        "outputId": "7b6e2a0e-2b27-4c5c-ad49-5b0f0f290bcb"
      },
      "execution_count": null,
      "outputs": [
        {
          "output_type": "stream",
          "name": "stdout",
          "text": [
            "purple\n",
            "orange\n",
            "green\n"
          ]
        }
      ]
    },
    {
      "cell_type": "markdown",
      "source": [
        "# **Creating a Function**\n",
        "In Python a function is defined using the def keyword:"
      ],
      "metadata": {
        "id": "77IWODtEp1TY"
      }
    },
    {
      "cell_type": "code",
      "source": [
        "def my_function():\n",
        "  print(\"Hello!!! i learn AI\")\n",
        "\n",
        "my_function()  #To call a function, use the function name followed by parenthesis:"
      ],
      "metadata": {
        "colab": {
          "base_uri": "https://localhost:8080/"
        },
        "id": "jCMx9pz-p3uO",
        "outputId": "6065791d-94ea-4d9e-bd4b-6dd1fe893605"
      },
      "execution_count": null,
      "outputs": [
        {
          "output_type": "stream",
          "name": "stdout",
          "text": [
            "Hello!!! i learn AI\n"
          ]
        }
      ]
    },
    {
      "cell_type": "markdown",
      "source": [
        "# **Arguments**\n",
        "Information can be passed into functions as arguments."
      ],
      "metadata": {
        "id": "1cJ0_akpvRAJ"
      }
    },
    {
      "cell_type": "code",
      "source": [
        "def my_function(fname):\n",
        "  print(fname + \" Refsnes\")\n",
        "\n",
        "my_function(\"Emil\")\n",
        "my_function(\"Tobias\")\n",
        "my_function(\"Linus\")"
      ],
      "metadata": {
        "colab": {
          "base_uri": "https://localhost:8080/"
        },
        "id": "7qz5tKSSvTm0",
        "outputId": "9c635e58-1bd0-46cd-8172-46ea0af2c711"
      },
      "execution_count": null,
      "outputs": [
        {
          "output_type": "stream",
          "name": "stdout",
          "text": [
            "Emil Refsnes\n",
            "Tobias Refsnes\n",
            "Linus Refsnes\n"
          ]
        }
      ]
    },
    {
      "cell_type": "markdown",
      "source": [
        "# **Default Parameter Value**\n",
        "If we call the function without argument, it uses the default value:"
      ],
      "metadata": {
        "id": "0TkxLaZgvndT"
      }
    },
    {
      "cell_type": "code",
      "source": [
        "def my_function(city = \"lahore\"):\n",
        "  print(\"I am from \" + city)\n",
        "\n",
        "my_function(\"Abbottabad\")\n",
        "my_function(\"Haripur\")\n",
        "my_function()\n",
        "my_function(\"Manshera\")"
      ],
      "metadata": {
        "colab": {
          "base_uri": "https://localhost:8080/"
        },
        "id": "0Jig8WdVvuDJ",
        "outputId": "2d5bb443-7d3a-4029-b9e4-15145dd6f34a"
      },
      "execution_count": null,
      "outputs": [
        {
          "output_type": "stream",
          "name": "stdout",
          "text": [
            "I am from Abbottabad\n",
            "I am from Haripur\n",
            "I am from lahore\n",
            "I am from Manshera\n"
          ]
        }
      ]
    },
    {
      "cell_type": "markdown",
      "source": [
        "# **Return Values**\n",
        "To let a function return a value, use the return statement:"
      ],
      "metadata": {
        "id": "2Lf3xDcgwCCo"
      }
    },
    {
      "cell_type": "code",
      "source": [
        "def my_function(z):\n",
        "  return 9 * z\n",
        "\n",
        "print(my_function(8))\n",
        "print(my_function(4))\n",
        "print(my_function(2))"
      ],
      "metadata": {
        "colab": {
          "base_uri": "https://localhost:8080/"
        },
        "id": "McLXQj_LwHh3",
        "outputId": "e8568545-cfd1-47d9-9a3b-e42bad990a36"
      },
      "execution_count": null,
      "outputs": [
        {
          "output_type": "stream",
          "name": "stdout",
          "text": [
            "72\n",
            "36\n",
            "18\n"
          ]
        }
      ]
    }
  ]
}