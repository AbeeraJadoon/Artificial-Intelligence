{
  "nbformat": 4,
  "nbformat_minor": 0,
  "metadata": {
    "colab": {
      "provenance": []
    },
    "kernelspec": {
      "name": "python3",
      "display_name": "Python 3"
    },
    "language_info": {
      "name": "python"
    }
  },
  "cells": [
    {
      "cell_type": "markdown",
      "source": [
        "**NumPy Array Creation**"
      ],
      "metadata": {
        "id": "Z-696fPwWxA7"
      }
    },
    {
      "cell_type": "markdown",
      "source": [
        "**Create a 1D array of numbers from 0 to 9**\n",
        "\n",
        "\n"
      ],
      "metadata": {
        "id": "NbfkIO6VWlt0"
      }
    },
    {
      "cell_type": "code",
      "execution_count": null,
      "metadata": {
        "colab": {
          "base_uri": "https://localhost:8080/"
        },
        "id": "FPl1v9TI_Klu",
        "outputId": "77e7870c-332f-49d0-8950-d4cba639a841"
      },
      "outputs": [
        {
          "output_type": "stream",
          "name": "stdout",
          "text": [
            "[0 1 2 3 4 5 6 7 8 9]\n"
          ]
        }
      ],
      "source": [
        "import numpy as np\n",
        "\n",
        "array = np.array([0,1,2,3,4,5,6,7,8,9])\n",
        "\n",
        "print(array)"
      ]
    },
    {
      "cell_type": "markdown",
      "source": [
        "**Create a 2D array with shape (3, 3), where values range from 1 to 9.**\n"
      ],
      "metadata": {
        "id": "Xo-iIYhYWguF"
      }
    },
    {
      "cell_type": "code",
      "source": [
        "import numpy as np\n",
        "\n",
        "arr = np.array([[1,2,3],[5,6,7],[8,9,10]])\n",
        "\n",
        "print(arr)\n"
      ],
      "metadata": {
        "colab": {
          "base_uri": "https://localhost:8080/"
        },
        "id": "tMptiUrRQaad",
        "outputId": "e864432b-f998-465c-e720-ec82ee77a449"
      },
      "execution_count": null,
      "outputs": [
        {
          "output_type": "stream",
          "name": "stdout",
          "text": [
            "[[ 1  2  3]\n",
            " [ 5  6  7]\n",
            " [ 8  9 10]]\n"
          ]
        }
      ]
    },
    {
      "cell_type": "markdown",
      "source": [
        "**Create a 3D array of shape (2, 3, 4) filled with random integers from 1 to 100.**"
      ],
      "metadata": {
        "id": "DJZAO3N4W2Qq"
      }
    },
    {
      "cell_type": "code",
      "source": [
        "import numpy as np\n",
        "\n",
        "array = np.random.randint(1, 101, (2, 3, 4))\n",
        "print(array)"
      ],
      "metadata": {
        "colab": {
          "base_uri": "https://localhost:8080/"
        },
        "id": "fhf_AYPSTagW",
        "outputId": "97206b4d-ac83-4558-ef2e-c8042991bf3c"
      },
      "execution_count": null,
      "outputs": [
        {
          "output_type": "stream",
          "name": "stdout",
          "text": [
            "[[[78 68 45  5]\n",
            "  [49 23 85 37]\n",
            "  [46 87 38  9]]\n",
            "\n",
            " [[27 12 68 49]\n",
            "  [74 65 89 18]\n",
            "  [23 44 53 75]]]\n"
          ]
        }
      ]
    },
    {
      "cell_type": "markdown",
      "source": [
        "**Array Indexing and Slicing**\n"
      ],
      "metadata": {
        "id": "XKc15BI-ToG9"
      }
    },
    {
      "cell_type": "markdown",
      "source": [
        " **Given the array arr2 from Task 1, extract the second row.**"
      ],
      "metadata": {
        "id": "p92hZ7-QXMlC"
      }
    },
    {
      "cell_type": "code",
      "source": [
        "import numpy as np\n",
        "\n",
        "arr = np.array([[1,2,3],[5,6,7],[8,9,10]])\n",
        "\n",
        "print(arr)\n",
        "\n",
        "second_row=arr[1]\n",
        "print(second_row)"
      ],
      "metadata": {
        "colab": {
          "base_uri": "https://localhost:8080/"
        },
        "id": "Yej_P52fXLDj",
        "outputId": "35a0c2e7-c4f8-46e7-be67-60265dd2bbca"
      },
      "execution_count": null,
      "outputs": [
        {
          "output_type": "stream",
          "name": "stdout",
          "text": [
            "[[ 1  2  3]\n",
            " [ 5  6  7]\n",
            " [ 8  9 10]]\n",
            "[5 6 7]\n"
          ]
        }
      ]
    },
    {
      "cell_type": "markdown",
      "source": [
        "**Extract the element at the 3rd row and 2nd column of arr2.**"
      ],
      "metadata": {
        "id": "5JIuNps6XkTR"
      }
    },
    {
      "cell_type": "code",
      "source": [
        "import numpy as np\n",
        "\n",
        "arr2 = np.array([[1,2,3],[5,6,7],[8,9,10]])\n",
        "\n",
        "print(\"The element at the 3rd row and 2nd column is:\", arr2[2, 1])"
      ],
      "metadata": {
        "colab": {
          "base_uri": "https://localhost:8080/"
        },
        "id": "FSJg0wVsXqpR",
        "outputId": "4062c256-1a06-4645-dd17-f2e7606b0cfc"
      },
      "execution_count": null,
      "outputs": [
        {
          "output_type": "stream",
          "name": "stdout",
          "text": [
            "The element at the 3rd row and 2nd column is: 9\n"
          ]
        }
      ]
    },
    {
      "cell_type": "markdown",
      "source": [
        "**Extract all elements from the 3D array arr3 at the first index (0th layer)**"
      ],
      "metadata": {
        "id": "YKJuAZ8QYSQQ"
      }
    },
    {
      "cell_type": "code",
      "source": [
        "import numpy as np\n",
        "\n",
        "arr3 = np.random.randint(1, 101, (2, 3, 4))\n",
        "print(\"The 3D array is:\")\n",
        "print(arr3)\n",
        "\n",
        "print(\"\\nThe elements at the 0th layer (first index) are:\")\n",
        "print(arr3[0])"
      ],
      "metadata": {
        "colab": {
          "base_uri": "https://localhost:8080/"
        },
        "id": "5p10rpG6ZIV_",
        "outputId": "68c829e8-d6c0-4761-aca8-4decf959c67f"
      },
      "execution_count": null,
      "outputs": [
        {
          "output_type": "stream",
          "name": "stdout",
          "text": [
            "The 3D array is:\n",
            "[[[ 73  52  26  70]\n",
            "  [ 28   3 100  95]\n",
            "  [  5  85   9   9]]\n",
            "\n",
            " [[ 14  99  35  76]\n",
            "  [ 19  31  10  90]\n",
            "  [ 54  66  97   3]]]\n",
            "\n",
            "The elements at the 0th layer (first index) are:\n",
            "[[ 73  52  26  70]\n",
            " [ 28   3 100  95]\n",
            " [  5  85   9   9]]\n"
          ]
        }
      ]
    },
    {
      "cell_type": "markdown",
      "source": [
        " **Array Reshaping**"
      ],
      "metadata": {
        "id": "E_h71SLeZVsW"
      }
    },
    {
      "cell_type": "markdown",
      "source": [
        "**Reshape the 1D array from Task 1 into a 2x5 2D array**"
      ],
      "metadata": {
        "id": "xRYgMziJZZ9O"
      }
    },
    {
      "cell_type": "code",
      "source": [
        "import numpy as np\n",
        "\n",
        "array = np.array([0,1, 2, 3, 4, 5, 6, 7, 8, 9])\n",
        "reshaped_array = array.reshape(2, 5)\n",
        "\n",
        "print(\"The reshaped 2D array is:\")\n",
        "print(reshaped_array)"
      ],
      "metadata": {
        "colab": {
          "base_uri": "https://localhost:8080/"
        },
        "id": "Ep3LMh6CZcHW",
        "outputId": "cbf8ba1a-ddb0-4b60-95a8-8b81958feab9"
      },
      "execution_count": null,
      "outputs": [
        {
          "output_type": "stream",
          "name": "stdout",
          "text": [
            "The reshaped 2D array is:\n",
            "[[0 1 2 3 4]\n",
            " [5 6 7 8 9]]\n"
          ]
        }
      ]
    },
    {
      "cell_type": "markdown",
      "source": [
        "**Mathematical Operations on Arrays**"
      ],
      "metadata": {
        "id": "e39Jyk3masB0"
      }
    },
    {
      "cell_type": "markdown",
      "source": [
        "**Add 10 to each element of arr1**"
      ],
      "metadata": {
        "id": "23niDrfUawJM"
      }
    },
    {
      "cell_type": "code",
      "source": [
        "arr1 = [[1, 2, 3],\n",
        "        [4, 5, 6],\n",
        "        [7, 8, 9]]\n",
        "\n",
        "arr1_modified = [[x+10 for x in row] for row in arr1]\n",
        "\n",
        "print(\"The modified array is:\")\n",
        "print(arr1_modified)"
      ],
      "metadata": {
        "colab": {
          "base_uri": "https://localhost:8080/"
        },
        "id": "4NEoN-BSa6db",
        "outputId": "0ca0dc79-2960-4b5a-affc-d4252c857dd5"
      },
      "execution_count": null,
      "outputs": [
        {
          "output_type": "stream",
          "name": "stdout",
          "text": [
            "The modified array is:\n",
            "[[11, 12, 13], [14, 15, 16], [17, 18, 19]]\n"
          ]
        }
      ]
    },
    {
      "cell_type": "markdown",
      "source": [
        " **Multiply each element of arr2 by 2**"
      ],
      "metadata": {
        "id": "4Vr3fBC5bFdT"
      }
    },
    {
      "cell_type": "code",
      "source": [
        "arr2 = np.array([[1,2,3],[5,6,7],[8,9,10]])\n",
        "\n",
        "arr2_modified = arr2 * 2\n",
        "\n",
        "print(\"The modified array is:\")\n",
        "print(arr2_modified)"
      ],
      "metadata": {
        "colab": {
          "base_uri": "https://localhost:8080/"
        },
        "id": "cdYukxS6bc9b",
        "outputId": "7f6ca394-c5cb-4d6b-beef-cb9b31ff58fd"
      },
      "execution_count": null,
      "outputs": [
        {
          "output_type": "stream",
          "name": "stdout",
          "text": [
            "The modified array is:\n",
            "[[ 2  4  6]\n",
            " [10 12 14]\n",
            " [16 18 20]]\n"
          ]
        }
      ]
    },
    {
      "cell_type": "markdown",
      "source": [
        "**Lab Task: Data Visualization with Matplotlib**"
      ],
      "metadata": {
        "id": "qmTsQaRCblyo"
      }
    },
    {
      "cell_type": "markdown",
      "source": [
        "**Basic Line Plot**"
      ],
      "metadata": {
        "id": "dWJob4JVbviy"
      }
    },
    {
      "cell_type": "markdown",
      "source": [
        "**x =** **[1, 2, 3, 4, 5]**\n",
        "**y = [2, 4, 6, 8, 10]**\n",
        "**Add labels for both axes, title, and grid lines**"
      ],
      "metadata": {
        "id": "7kAHkLomb3qC"
      }
    },
    {
      "cell_type": "code",
      "source": [
        "import matplotlib.pyplot as plt\n",
        "import numpy as np\n",
        "\n",
        "xpoints = np.array([1,2,3,4,5])\n",
        "ypoints = np.array([2, 4, 6, 8, 10])\n",
        "\n",
        "plt.plot(xpoints, ypoints)\n",
        "plt.show()"
      ],
      "metadata": {
        "colab": {
          "base_uri": "https://localhost:8080/",
          "height": 430
        },
        "id": "0eXgVIOEdWt3",
        "outputId": "48f90565-bddb-4812-e6b6-b21e42c71f45"
      },
      "execution_count": null,
      "outputs": [
        {
          "output_type": "display_data",
          "data": {
            "text/plain": [
              "<Figure size 640x480 with 1 Axes>"
            ],
            "image/png": "[encoded data removed]"
          },
          "metadata": {}
        }
      ]
    },
    {
      "cell_type": "markdown",
      "source": [
        "**Scatter Plot**"
      ],
      "metadata": {
        "id": "nXn2VG0Vd9eO"
      }
    },
    {
      "cell_type": "markdown",
      "source": [
        "**Create a scatter plot using the following data points:**\n",
        "**x = [5, 7, 8, 7, 2, 17, 2, 9, 4, 11]**\n",
        "**y = [99, 86, 87, 88, 100, 86, 103, 87, 94, 78]**\n",
        "**Customize the markers with size and color**"
      ],
      "metadata": {
        "id": "Mq3Oe-pReEAW"
      }
    },
    {
      "cell_type": "code",
      "source": [
        "import matplotlib.pyplot as plt\n",
        "\n",
        "x = [5, 7, 8, 7, 2, 17, 2, 9, 4, 11]\n",
        "y = [99, 86, 87, 88, 100, 86, 103, 87, 94, 78]\n",
        "\n",
        "plt.scatter(x, y, s=100, c='red', marker='x')\n",
        "plt.title('Scatter Plot Example')\n",
        "plt.xlabel('X-axis')\n",
        "plt.ylabel('Y-axis')\n",
        "plt.grid(True, linestyle='--', alpha=0.5)\n",
        "plt.show()"
      ],
      "metadata": {
        "colab": {
          "base_uri": "https://localhost:8080/",
          "height": 472
        },
        "id": "LF9gArsSepiF",
        "outputId": "6e31141e-6cad-4107-deec-42b9845ba1bc"
      },
      "execution_count": null,
      "outputs": [
        {
          "output_type": "display_data",
          "data": {
            "text/plain": [
              "<Figure size 640x480 with 1 Axes>"
            ],
            "image/png": "[encoded data removed]"
          },
          "metadata": {}
        }
      ]
    },
    {
      "cell_type": "markdown",
      "source": [
        "**Histogram**"
      ],
      "metadata": {
        "id": "MKTUKotwjnql"
      }
    },
    {
      "cell_type": "markdown",
      "source": [
        "\n",
        "**Generate a histogram for a dataset containing random numbers:\n",
        "Use np.random.randn(1000) to generate random numbers.\n",
        "Create a histogram with 30 bins and customize the color of the bars.**\n"
      ],
      "metadata": {
        "id": "r0pBnGPUjT3d"
      }
    },
    {
      "cell_type": "code",
      "source": [
        "import numpy as np\n",
        "import matplotlib.pyplot as plt\n",
        "\n",
        "data = np.random.randn(1000)\n",
        "plt.hist(data, bins=30, color='lavender', edgecolor='black')\n",
        "\n",
        "plt.title('Histogram of Random Numbers')\n",
        "plt.xlabel('Value')\n",
        "plt.ylabel('Frequency')\n",
        "\n",
        "plt.grid(axis='y')\n",
        "plt.show()"
      ],
      "metadata": {
        "colab": {
          "base_uri": "https://localhost:8080/",
          "height": 472
        },
        "id": "eDCllOoFjpbd",
        "outputId": "128c96da-3f45-40d8-ed27-98175411c53d"
      },
      "execution_count": null,
      "outputs": [
        {
          "output_type": "display_data",
          "data": {
            "text/plain": [
              "<Figure size 640x480 with 1 Axes>"
            ],
            "image/png": "[encoded data removed]"
          },
          "metadata": {}
        }
      ]
    },
    {
      "cell_type": "markdown",
      "source": [
        "**Bar Plot**\n",
        "\n"
      ],
      "metadata": {
        "id": "zeeCkRJre6gF"
      }
    },
    {
      "cell_type": "markdown",
      "source": [
        "**Create a bar plot with the following categories and values:**\n",
        "**categories = ['A', 'B', 'C', 'D', 'E']**\n",
        "**values = [5, 7, 3, 8, 6]**\n",
        "**Customize the bars with different colors for each category.**\n"
      ],
      "metadata": {
        "id": "Fsm1AnyIe9cl"
      }
    },
    {
      "cell_type": "code",
      "source": [
        "import matplotlib.pyplot as plt\n",
        "import numpy as np\n",
        "\n",
        "categories = ['A', 'B', 'C', 'D', 'E']\n",
        "values = [5, 7, 3, 8, 6]\n",
        "\n",
        "plt.bar(categories, values)\n",
        "plt.show()"
      ],
      "metadata": {
        "colab": {
          "base_uri": "https://localhost:8080/",
          "height": 430
        },
        "collapsed": true,
        "id": "kQ3BNdpofums",
        "outputId": "c15433ff-f9d2-4b4a-ea8e-3de63402382b"
      },
      "execution_count": null,
      "outputs": [
        {
          "output_type": "display_data",
          "data": {
            "text/plain": [
              "<Figure size 640x480 with 1 Axes>"
            ],
            "image/png": "[encoded data removed]"
          },
          "metadata": {}
        }
      ]
    },
    {
      "cell_type": "markdown",
      "source": [
        "**Create a pie chart for the following data:**\n",
        "**labels = ['Python', 'Java', 'C++', 'JavaScript']**\n",
        "**sizes = [50, 25, 15, 10]**\n",
        "**Add percentages to each section and display the chart with an exploded view for the largest section**"
      ],
      "metadata": {
        "id": "GfhZyZpFhrU4"
      }
    },
    {
      "cell_type": "code",
      "source": [
        "import matplotlib.pyplot as plt\n",
        "\n",
        "labels = ['Python', 'Java', 'C++', 'JavaScript']\n",
        "sizes = [50, 25, 15, 10]\n",
        "explode=(0.1,0.0,0.0,0.0)\n",
        "\n",
        "plt.pie(sizes,explode=explode,labels=labels,autopct='%1.1f%%',startangle=140)\n",
        "plt.title('Programming Languages')\n",
        "plt.axis('equal')\n",
        "\n",
        "\n",
        "plt.show()"
      ],
      "metadata": {
        "colab": {
          "base_uri": "https://localhost:8080/",
          "height": 428
        },
        "id": "6trNSIvEhARh",
        "outputId": "76a16c18-6698-4340-dd2c-1bb751857a94"
      },
      "execution_count": null,
      "outputs": [
        {
          "output_type": "display_data",
          "data": {
            "text/plain": [
              "<Figure size 640x480 with 1 Axes>"
            ],
            "image/png": "[encoded data removed]"
          },
          "metadata": {}
        }
      ]
    }
  ]
}