{
  "nbformat": 4,
  "nbformat_minor": 0,
  "metadata": {
    "colab": {
      "provenance": [],
      "authorship_tag": "ABX9TyPHDyAulpGP8F//t7MzYvTq",
      "include_colab_link": true
    },
    "kernelspec": {
      "name": "python3",
      "display_name": "Python 3"
    },
    "language_info": {
      "name": "python"
    }
  },
  "cells": [
    {
      "cell_type": "markdown",
      "metadata": {
        "id": "view-in-github",
        "colab_type": "text"
      },
      "source": [
        "<a href=\"https://colab.research.google.com/github/AbeeraJadoon/Artificial-Intelligence/blob/main/LabAssignment1.ipynb\" target=\"_parent\"><img src=\"https://colab.research.google.com/assets/colab-badge.svg\" alt=\"Open In Colab\"/></a>"
      ]
    },
    {
      "cell_type": "markdown",
      "source": [
        "***LAB ASSIGNMENT AI***"
      ],
      "metadata": {
        "id": "jXu5seK0y8fc"
      }
    },
    {
      "cell_type": "markdown",
      "source": [
        "Imagine you're a tourist in Pakistan, and you want to travel from Islamabad to Karachi. You\n",
        "want to find the shortest route in terms of the number of cities you need to travel through.\n",
        "\n",
        "The\n",
        "cities are connected through highways, and your goal is to find the shortest path using BFS.\n",
        "\n",
        "Cities and Their Connections (Graph):\n",
        "\n",
        "You will use the following cities and their connections for this scenario:\n",
        "\n",
        "• Islamabad is connected to Rawalpindi, Lahore, and Peshawar.\n",
        "\n",
        "• Rawalpindi is connected to Islamabad, Peshawar, and Quetta.\n",
        "\n",
        "• Peshawar is connected to Islamabad, Rawalpindi, and Quetta.\n",
        "\n",
        "• Lahore is connected to Islamabad, Multan, and Quetta.\n",
        "\n",
        "• Multan is connected to Lahore, Karachi, and Quetta.\n",
        "\n",
        "• Quetta is connected to Rawalpindi, Peshawar, Multan, and Karachi.\n",
        "\n",
        "• Karachi is connected to Multan and Quetta.\n"
      ],
      "metadata": {
        "id": "3L1oKoyFh-nU"
      }
    },
    {
      "cell_type": "code",
      "execution_count": null,
      "metadata": {
        "colab": {
          "base_uri": "https://localhost:8080/"
        },
        "id": "dbnUrtcqh9ib",
        "outputId": "53d0b30b-7f63-4254-8e79-c4c779954b9c"
      },
      "outputs": [
        {
          "output_type": "stream",
          "name": "stdout",
          "text": [
            "Shortest Path: ['Islamabad', 'Rawalpindi', 'Quetta', 'Karachi']\n"
          ]
        }
      ],
      "source": [
        "# Import deque for efficient queue operations\n",
        "from collections import deque\n",
        "\n",
        "def bfs_shortest_path(graph, start_node, target_node):\n",
        "    # Initialize the queue with the start node and its path as a tuple\n",
        "    queue = deque([(start_node, [start_node])])\n",
        "\n",
        "    # Set to keep track of visited nodes\n",
        "    visited = set()\n",
        "\n",
        "    # Continue until the queue is empty\n",
        "    while queue:\n",
        "        # Pop the leftmost element in the queue (FIFO)\n",
        "        current_node, path = queue.popleft()\n",
        "\n",
        "        # Mark the current node as visited\n",
        "        visited.add(current_node)\n",
        "\n",
        "        # If we reached the target node, return the path\n",
        "        if current_node == target_node:\n",
        "            return path\n",
        "\n",
        "        # Explore all neighbors of the current node\n",
        "        for neighbor in graph[current_node]:\n",
        "            # Only visit the neighbor if it hasn't been visited\n",
        "            if neighbor not in visited:\n",
        "                # Mark the neighbor as visited\n",
        "                visited.add(neighbor)\n",
        "                # Append the neighbor and the updated path to the queue\n",
        "                queue.append((neighbor, path + [neighbor]))\n",
        "\n",
        "    # If no path is found, return None\n",
        "    return None\n",
        "\n",
        "# Define the graph of cities and their connections\n",
        "cities_graph = {\n",
        "    'Islamabad': ['Rawalpindi', 'Lahore', 'Peshawar'],\n",
        "    'Rawalpindi': ['Islamabad', 'Peshawar', 'Quetta'],\n",
        "    'Peshawar': ['Islamabad', 'Rawalpindi', 'Quetta'],\n",
        "    'Lahore': ['Islamabad', 'Multan', 'Quetta'],\n",
        "    'Multan': ['Lahore', 'Karachi', 'Quetta'],\n",
        "    'Quetta': ['Rawalpindi', 'Peshawar', 'Multan', 'Karachi'],\n",
        "    'Karachi': ['Multan', 'Quetta']\n",
        "}\n",
        "\n",
        "# Find the shortest path from Islamabad to Karachi\n",
        "shortest_path = bfs_shortest_path(cities_graph, 'Islamabad', 'Karachi')\n",
        "\n",
        "# Print the result\n",
        "print(\"Shortest Path:\", shortest_path)\n"
      ]
    },
    {
      "cell_type": "markdown",
      "source": [
        "Shortest path from islamabad to karachi is Shortest Path: ['Islamabad', 'Rawalpindi', 'Quetta', 'Karachi']"
      ],
      "metadata": {
        "id": "RWLqQ-zWl-EQ"
      }
    }
  ]
}